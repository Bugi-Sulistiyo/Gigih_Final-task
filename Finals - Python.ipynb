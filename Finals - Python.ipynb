{
 "cells": [
  {
   "cell_type": "code",
   "execution_count": 10,
   "metadata": {},
   "outputs": [],
   "source": [
    "# import the needed packages\n",
    "import pandas as pd\n",
    "import numpy as np\n",
    "import matplotlib.pyplot as plt"
   ]
  },
  {
   "cell_type": "code",
   "execution_count": 2,
   "metadata": {},
   "outputs": [
    {
     "data": {
      "text/html": [
       "<div>\n",
       "<style scoped>\n",
       "    .dataframe tbody tr th:only-of-type {\n",
       "        vertical-align: middle;\n",
       "    }\n",
       "\n",
       "    .dataframe tbody tr th {\n",
       "        vertical-align: top;\n",
       "    }\n",
       "\n",
       "    .dataframe thead th {\n",
       "        text-align: right;\n",
       "    }\n",
       "</style>\n",
       "<table border=\"1\" class=\"dataframe\">\n",
       "  <thead>\n",
       "    <tr style=\"text-align: right;\">\n",
       "      <th></th>\n",
       "      <th>question_id</th>\n",
       "      <th>question_owner_user_id</th>\n",
       "      <th>question_owner_location</th>\n",
       "      <th>question_title</th>\n",
       "      <th>question_body</th>\n",
       "      <th>question_created_date</th>\n",
       "      <th>question_score</th>\n",
       "      <th>question_tag</th>\n",
       "      <th>answer_id</th>\n",
       "      <th>answerer_user_id</th>\n",
       "      <th>answer_created_date</th>\n",
       "      <th>answer_score</th>\n",
       "      <th>answer_comment_count</th>\n",
       "      <th>is_accepted_answer</th>\n",
       "    </tr>\n",
       "  </thead>\n",
       "  <tbody>\n",
       "    <tr>\n",
       "      <th>0</th>\n",
       "      <td>27733458</td>\n",
       "      <td>3769827.0</td>\n",
       "      <td>NaN</td>\n",
       "      <td>SQL script to get time to response in log table</td>\n",
       "      <td>&lt;p&gt;I have one scenario which I really have no ...</td>\n",
       "      <td>2015-01-01 18:31:22.693000 UTC</td>\n",
       "      <td>1</td>\n",
       "      <td>bq</td>\n",
       "      <td>27787398.0</td>\n",
       "      <td>1371484.0</td>\n",
       "      <td>2015-01-05 20:30:31.057000 UTC</td>\n",
       "      <td>1.0</td>\n",
       "      <td>1.0</td>\n",
       "      <td>False</td>\n",
       "    </tr>\n",
       "    <tr>\n",
       "      <th>1</th>\n",
       "      <td>27734669</td>\n",
       "      <td>2238969.0</td>\n",
       "      <td>NaN</td>\n",
       "      <td>Httparchive - BigQuery how to get median bytes...</td>\n",
       "      <td>&lt;p&gt;I am currently writing my bachelor theses a...</td>\n",
       "      <td>2015-01-01 21:04:30.070000 UTC</td>\n",
       "      <td>0</td>\n",
       "      <td>bq</td>\n",
       "      <td>27751284.0</td>\n",
       "      <td>3624307.0</td>\n",
       "      <td>2015-01-03 02:56:46.553000 UTC</td>\n",
       "      <td>1.0</td>\n",
       "      <td>2.0</td>\n",
       "      <td>False</td>\n",
       "    </tr>\n",
       "  </tbody>\n",
       "</table>\n",
       "</div>"
      ],
      "text/plain": [
       "   question_id  question_owner_user_id question_owner_location  \\\n",
       "0     27733458               3769827.0                     NaN   \n",
       "1     27734669               2238969.0                     NaN   \n",
       "\n",
       "                                      question_title  \\\n",
       "0    SQL script to get time to response in log table   \n",
       "1  Httparchive - BigQuery how to get median bytes...   \n",
       "\n",
       "                                       question_body  \\\n",
       "0  <p>I have one scenario which I really have no ...   \n",
       "1  <p>I am currently writing my bachelor theses a...   \n",
       "\n",
       "            question_created_date  question_score question_tag   answer_id  \\\n",
       "0  2015-01-01 18:31:22.693000 UTC               1           bq  27787398.0   \n",
       "1  2015-01-01 21:04:30.070000 UTC               0           bq  27751284.0   \n",
       "\n",
       "   answerer_user_id             answer_created_date  answer_score  \\\n",
       "0         1371484.0  2015-01-05 20:30:31.057000 UTC           1.0   \n",
       "1         3624307.0  2015-01-03 02:56:46.553000 UTC           1.0   \n",
       "\n",
       "   answer_comment_count  is_accepted_answer  \n",
       "0                   1.0               False  \n",
       "1                   2.0               False  "
      ]
     },
     "execution_count": 2,
     "metadata": {},
     "output_type": "execute_result"
    }
   ],
   "source": [
    "# import the dataset\n",
    "data = pd.read_csv(\"./GG3 finals python dataset stackoverflow.csv\")\n",
    "data.head(2)"
   ]
  },
  {
   "cell_type": "markdown",
   "metadata": {},
   "source": [
    "# EDA & Data Preparation\n",
    "Exploring the dataset to check the data characteristic and preparing the dataset to make the analysis better"
   ]
  },
  {
   "cell_type": "code",
   "execution_count": 3,
   "metadata": {},
   "outputs": [
    {
     "name": "stdout",
     "output_type": "stream",
     "text": [
      "<class 'pandas.core.frame.DataFrame'>\n",
      "RangeIndex: 6795 entries, 0 to 6794\n",
      "Data columns (total 14 columns):\n",
      " #   Column                   Non-Null Count  Dtype  \n",
      "---  ------                   --------------  -----  \n",
      " 0   question_id              6795 non-null   int64  \n",
      " 1   question_owner_user_id   6761 non-null   float64\n",
      " 2   question_owner_location  2770 non-null   object \n",
      " 3   question_title           6795 non-null   object \n",
      " 4   question_body            6795 non-null   object \n",
      " 5   question_created_date    6795 non-null   object \n",
      " 6   question_score           6795 non-null   int64  \n",
      " 7   question_tag             6795 non-null   object \n",
      " 8   answer_id                6393 non-null   float64\n",
      " 9   answerer_user_id         6385 non-null   float64\n",
      " 10  answer_created_date      6393 non-null   object \n",
      " 11  answer_score             6393 non-null   float64\n",
      " 12  answer_comment_count     6393 non-null   float64\n",
      " 13  is_accepted_answer       6795 non-null   bool   \n",
      "dtypes: bool(1), float64(5), int64(2), object(6)\n",
      "memory usage: 696.9+ KB\n"
     ]
    }
   ],
   "source": [
    "# check the data column existed, data type of each column, and the null value existed in each column\n",
    "data.info()"
   ]
  },
  {
   "cell_type": "code",
   "execution_count": 4,
   "metadata": {},
   "outputs": [
    {
     "data": {
      "text/html": [
       "<div>\n",
       "<style scoped>\n",
       "    .dataframe tbody tr th:only-of-type {\n",
       "        vertical-align: middle;\n",
       "    }\n",
       "\n",
       "    .dataframe tbody tr th {\n",
       "        vertical-align: top;\n",
       "    }\n",
       "\n",
       "    .dataframe thead th {\n",
       "        text-align: right;\n",
       "    }\n",
       "</style>\n",
       "<table border=\"1\" class=\"dataframe\">\n",
       "  <thead>\n",
       "    <tr style=\"text-align: right;\">\n",
       "      <th></th>\n",
       "      <th>question_id</th>\n",
       "      <th>question_owner_user_id</th>\n",
       "      <th>question_owner_location</th>\n",
       "      <th>question_title</th>\n",
       "      <th>question_body</th>\n",
       "      <th>question_created_date</th>\n",
       "      <th>question_score</th>\n",
       "      <th>question_tag</th>\n",
       "      <th>answer_id</th>\n",
       "      <th>answerer_user_id</th>\n",
       "      <th>answer_created_date</th>\n",
       "      <th>answer_score</th>\n",
       "      <th>answer_comment_count</th>\n",
       "      <th>is_accepted_answer</th>\n",
       "    </tr>\n",
       "  </thead>\n",
       "  <tbody>\n",
       "    <tr>\n",
       "      <th>count</th>\n",
       "      <td>6.795000e+03</td>\n",
       "      <td>6.761000e+03</td>\n",
       "      <td>2770</td>\n",
       "      <td>6795</td>\n",
       "      <td>6795</td>\n",
       "      <td>6795</td>\n",
       "      <td>6795.000000</td>\n",
       "      <td>6795</td>\n",
       "      <td>6.393000e+03</td>\n",
       "      <td>6.385000e+03</td>\n",
       "      <td>6393</td>\n",
       "      <td>6393.000000</td>\n",
       "      <td>6393.000000</td>\n",
       "      <td>6795</td>\n",
       "    </tr>\n",
       "    <tr>\n",
       "      <th>unique</th>\n",
       "      <td>NaN</td>\n",
       "      <td>NaN</td>\n",
       "      <td>478</td>\n",
       "      <td>4597</td>\n",
       "      <td>4597</td>\n",
       "      <td>4597</td>\n",
       "      <td>NaN</td>\n",
       "      <td>3</td>\n",
       "      <td>NaN</td>\n",
       "      <td>NaN</td>\n",
       "      <td>6393</td>\n",
       "      <td>NaN</td>\n",
       "      <td>NaN</td>\n",
       "      <td>2</td>\n",
       "    </tr>\n",
       "    <tr>\n",
       "      <th>top</th>\n",
       "      <td>NaN</td>\n",
       "      <td>NaN</td>\n",
       "      <td>San Francisco, CA, United States</td>\n",
       "      <td>Setting GOOGLE_APPLICATION_CREDENTIALS for Big...</td>\n",
       "      <td>&lt;p&gt;I'm trying to connect to Google BigQuery th...</td>\n",
       "      <td>2016-02-02 17:26:59.407000 UTC</td>\n",
       "      <td>NaN</td>\n",
       "      <td>bq</td>\n",
       "      <td>NaN</td>\n",
       "      <td>NaN</td>\n",
       "      <td>2015-01-05 20:30:31.057000 UTC</td>\n",
       "      <td>NaN</td>\n",
       "      <td>NaN</td>\n",
       "      <td>False</td>\n",
       "    </tr>\n",
       "    <tr>\n",
       "      <th>freq</th>\n",
       "      <td>NaN</td>\n",
       "      <td>NaN</td>\n",
       "      <td>82</td>\n",
       "      <td>15</td>\n",
       "      <td>15</td>\n",
       "      <td>15</td>\n",
       "      <td>NaN</td>\n",
       "      <td>6600</td>\n",
       "      <td>NaN</td>\n",
       "      <td>NaN</td>\n",
       "      <td>1</td>\n",
       "      <td>NaN</td>\n",
       "      <td>NaN</td>\n",
       "      <td>4088</td>\n",
       "    </tr>\n",
       "    <tr>\n",
       "      <th>mean</th>\n",
       "      <td>3.968053e+07</td>\n",
       "      <td>4.159195e+06</td>\n",
       "      <td>NaN</td>\n",
       "      <td>NaN</td>\n",
       "      <td>NaN</td>\n",
       "      <td>NaN</td>\n",
       "      <td>3.128477</td>\n",
       "      <td>NaN</td>\n",
       "      <td>4.221188e+07</td>\n",
       "      <td>3.987739e+06</td>\n",
       "      <td>NaN</td>\n",
       "      <td>2.697794</td>\n",
       "      <td>1.291412</td>\n",
       "      <td>NaN</td>\n",
       "    </tr>\n",
       "    <tr>\n",
       "      <th>std</th>\n",
       "      <td>5.535645e+06</td>\n",
       "      <td>2.513039e+06</td>\n",
       "      <td>NaN</td>\n",
       "      <td>NaN</td>\n",
       "      <td>NaN</td>\n",
       "      <td>NaN</td>\n",
       "      <td>6.916284</td>\n",
       "      <td>NaN</td>\n",
       "      <td>8.601282e+06</td>\n",
       "      <td>2.825050e+06</td>\n",
       "      <td>NaN</td>\n",
       "      <td>6.300766</td>\n",
       "      <td>2.075850</td>\n",
       "      <td>NaN</td>\n",
       "    </tr>\n",
       "    <tr>\n",
       "      <th>min</th>\n",
       "      <td>2.773346e+07</td>\n",
       "      <td>1.109000e+03</td>\n",
       "      <td>NaN</td>\n",
       "      <td>NaN</td>\n",
       "      <td>NaN</td>\n",
       "      <td>NaN</td>\n",
       "      <td>-6.000000</td>\n",
       "      <td>NaN</td>\n",
       "      <td>2.775128e+07</td>\n",
       "      <td>4.279000e+03</td>\n",
       "      <td>NaN</td>\n",
       "      <td>-8.000000</td>\n",
       "      <td>0.000000</td>\n",
       "      <td>NaN</td>\n",
       "    </tr>\n",
       "    <tr>\n",
       "      <th>25%</th>\n",
       "      <td>3.541621e+07</td>\n",
       "      <td>1.934510e+06</td>\n",
       "      <td>NaN</td>\n",
       "      <td>NaN</td>\n",
       "      <td>NaN</td>\n",
       "      <td>NaN</td>\n",
       "      <td>0.000000</td>\n",
       "      <td>NaN</td>\n",
       "      <td>3.665496e+07</td>\n",
       "      <td>1.366527e+06</td>\n",
       "      <td>NaN</td>\n",
       "      <td>0.000000</td>\n",
       "      <td>0.000000</td>\n",
       "      <td>NaN</td>\n",
       "    </tr>\n",
       "    <tr>\n",
       "      <th>50%</th>\n",
       "      <td>4.037780e+07</td>\n",
       "      <td>4.193886e+06</td>\n",
       "      <td>NaN</td>\n",
       "      <td>NaN</td>\n",
       "      <td>NaN</td>\n",
       "      <td>NaN</td>\n",
       "      <td>1.000000</td>\n",
       "      <td>NaN</td>\n",
       "      <td>4.170803e+07</td>\n",
       "      <td>4.490873e+06</td>\n",
       "      <td>NaN</td>\n",
       "      <td>1.000000</td>\n",
       "      <td>0.000000</td>\n",
       "      <td>NaN</td>\n",
       "    </tr>\n",
       "    <tr>\n",
       "      <th>75%</th>\n",
       "      <td>4.437723e+07</td>\n",
       "      <td>6.156032e+06</td>\n",
       "      <td>NaN</td>\n",
       "      <td>NaN</td>\n",
       "      <td>NaN</td>\n",
       "      <td>NaN</td>\n",
       "      <td>3.000000</td>\n",
       "      <td>NaN</td>\n",
       "      <td>4.593654e+07</td>\n",
       "      <td>5.221944e+06</td>\n",
       "      <td>NaN</td>\n",
       "      <td>3.000000</td>\n",
       "      <td>2.000000</td>\n",
       "      <td>NaN</td>\n",
       "    </tr>\n",
       "    <tr>\n",
       "      <th>max</th>\n",
       "      <td>4.803929e+07</td>\n",
       "      <td>9.140111e+06</td>\n",
       "      <td>NaN</td>\n",
       "      <td>NaN</td>\n",
       "      <td>NaN</td>\n",
       "      <td>NaN</td>\n",
       "      <td>104.000000</td>\n",
       "      <td>NaN</td>\n",
       "      <td>7.375586e+07</td>\n",
       "      <td>1.954279e+07</td>\n",
       "      <td>NaN</td>\n",
       "      <td>156.000000</td>\n",
       "      <td>21.000000</td>\n",
       "      <td>NaN</td>\n",
       "    </tr>\n",
       "  </tbody>\n",
       "</table>\n",
       "</div>"
      ],
      "text/plain": [
       "         question_id  question_owner_user_id  \\\n",
       "count   6.795000e+03            6.761000e+03   \n",
       "unique           NaN                     NaN   \n",
       "top              NaN                     NaN   \n",
       "freq             NaN                     NaN   \n",
       "mean    3.968053e+07            4.159195e+06   \n",
       "std     5.535645e+06            2.513039e+06   \n",
       "min     2.773346e+07            1.109000e+03   \n",
       "25%     3.541621e+07            1.934510e+06   \n",
       "50%     4.037780e+07            4.193886e+06   \n",
       "75%     4.437723e+07            6.156032e+06   \n",
       "max     4.803929e+07            9.140111e+06   \n",
       "\n",
       "                 question_owner_location  \\\n",
       "count                               2770   \n",
       "unique                               478   \n",
       "top     San Francisco, CA, United States   \n",
       "freq                                  82   \n",
       "mean                                 NaN   \n",
       "std                                  NaN   \n",
       "min                                  NaN   \n",
       "25%                                  NaN   \n",
       "50%                                  NaN   \n",
       "75%                                  NaN   \n",
       "max                                  NaN   \n",
       "\n",
       "                                           question_title  \\\n",
       "count                                                6795   \n",
       "unique                                               4597   \n",
       "top     Setting GOOGLE_APPLICATION_CREDENTIALS for Big...   \n",
       "freq                                                   15   \n",
       "mean                                                  NaN   \n",
       "std                                                   NaN   \n",
       "min                                                   NaN   \n",
       "25%                                                   NaN   \n",
       "50%                                                   NaN   \n",
       "75%                                                   NaN   \n",
       "max                                                   NaN   \n",
       "\n",
       "                                            question_body  \\\n",
       "count                                                6795   \n",
       "unique                                               4597   \n",
       "top     <p>I'm trying to connect to Google BigQuery th...   \n",
       "freq                                                   15   \n",
       "mean                                                  NaN   \n",
       "std                                                   NaN   \n",
       "min                                                   NaN   \n",
       "25%                                                   NaN   \n",
       "50%                                                   NaN   \n",
       "75%                                                   NaN   \n",
       "max                                                   NaN   \n",
       "\n",
       "                 question_created_date  question_score question_tag  \\\n",
       "count                             6795     6795.000000         6795   \n",
       "unique                            4597             NaN            3   \n",
       "top     2016-02-02 17:26:59.407000 UTC             NaN           bq   \n",
       "freq                                15             NaN         6600   \n",
       "mean                               NaN        3.128477          NaN   \n",
       "std                                NaN        6.916284          NaN   \n",
       "min                                NaN       -6.000000          NaN   \n",
       "25%                                NaN        0.000000          NaN   \n",
       "50%                                NaN        1.000000          NaN   \n",
       "75%                                NaN        3.000000          NaN   \n",
       "max                                NaN      104.000000          NaN   \n",
       "\n",
       "           answer_id  answerer_user_id             answer_created_date  \\\n",
       "count   6.393000e+03      6.385000e+03                            6393   \n",
       "unique           NaN               NaN                            6393   \n",
       "top              NaN               NaN  2015-01-05 20:30:31.057000 UTC   \n",
       "freq             NaN               NaN                               1   \n",
       "mean    4.221188e+07      3.987739e+06                             NaN   \n",
       "std     8.601282e+06      2.825050e+06                             NaN   \n",
       "min     2.775128e+07      4.279000e+03                             NaN   \n",
       "25%     3.665496e+07      1.366527e+06                             NaN   \n",
       "50%     4.170803e+07      4.490873e+06                             NaN   \n",
       "75%     4.593654e+07      5.221944e+06                             NaN   \n",
       "max     7.375586e+07      1.954279e+07                             NaN   \n",
       "\n",
       "        answer_score  answer_comment_count is_accepted_answer  \n",
       "count    6393.000000           6393.000000               6795  \n",
       "unique           NaN                   NaN                  2  \n",
       "top              NaN                   NaN              False  \n",
       "freq             NaN                   NaN               4088  \n",
       "mean        2.697794              1.291412                NaN  \n",
       "std         6.300766              2.075850                NaN  \n",
       "min        -8.000000              0.000000                NaN  \n",
       "25%         0.000000              0.000000                NaN  \n",
       "50%         1.000000              0.000000                NaN  \n",
       "75%         3.000000              2.000000                NaN  \n",
       "max       156.000000             21.000000                NaN  "
      ]
     },
     "execution_count": 4,
     "metadata": {},
     "output_type": "execute_result"
    }
   ],
   "source": [
    "# check the statistics of the data\n",
    "data.describe(include=\"all\")"
   ]
  },
  {
   "cell_type": "code",
   "execution_count": 5,
   "metadata": {},
   "outputs": [
    {
     "data": {
      "text/plain": [
       "question_id                   0\n",
       "question_owner_user_id       34\n",
       "question_owner_location    4025\n",
       "question_title                0\n",
       "question_body                 0\n",
       "question_created_date         0\n",
       "question_score                0\n",
       "question_tag                  0\n",
       "answer_id                   402\n",
       "answerer_user_id            410\n",
       "answer_created_date         402\n",
       "answer_score                402\n",
       "answer_comment_count        402\n",
       "is_accepted_answer            0\n",
       "dtype: int64"
      ]
     },
     "execution_count": 5,
     "metadata": {},
     "output_type": "execute_result"
    }
   ],
   "source": [
    "# check the null value existed from each row\n",
    "data.isnull().sum()"
   ]
  },
  {
   "cell_type": "code",
   "execution_count": 6,
   "metadata": {},
   "outputs": [
    {
     "name": "stdout",
     "output_type": "stream",
     "text": [
      "Data row        : 6795\n",
      "Data columns    : 14\n"
     ]
    }
   ],
   "source": [
    "# check total row and column from the dataset\n",
    "print(f'Data row        : {data.shape[0]}',\n",
    "      f'Data columns    : {data.shape[1]}', sep='\\n')"
   ]
  },
  {
   "cell_type": "code",
   "execution_count": 9,
   "metadata": {},
   "outputs": [
    {
     "data": {
      "text/plain": [
       "4597"
      ]
     },
     "execution_count": 9,
     "metadata": {},
     "output_type": "execute_result"
    }
   ],
   "source": [
    "# check how much unique question id in the data\n",
    "data['question_id'].nunique()"
   ]
  },
  {
   "cell_type": "code",
   "execution_count": 39,
   "metadata": {},
   "outputs": [
    {
     "data": {
      "text/plain": [
       "2337"
      ]
     },
     "execution_count": 39,
     "metadata": {},
     "output_type": "execute_result"
    }
   ],
   "source": [
    "# check how much unique user id in the data\n",
    "data['question_owner_user_id'].nunique()"
   ]
  },
  {
   "cell_type": "code",
   "execution_count": 38,
   "metadata": {},
   "outputs": [
    {
     "data": {
      "text/plain": [
       "43      2015-01-17\n",
       "44      2015-01-17\n",
       "410     2015-05-01\n",
       "884     2015-08-26\n",
       "1632    2016-02-03\n",
       "1662    2016-02-09\n",
       "1663    2016-02-09\n",
       "1664    2016-02-09\n",
       "1900    2016-03-26\n",
       "1901    2016-03-26\n",
       "1902    2016-03-26\n",
       "1905    2016-03-26\n",
       "1906    2016-03-26\n",
       "1907    2016-03-26\n",
       "1908    2016-03-26\n",
       "2603    2016-07-20\n",
       "2797    2016-08-12\n",
       "2963    2016-08-31\n",
       "2964    2016-08-31\n",
       "4625    2017-04-12\n",
       "4783    2017-04-28\n",
       "4784    2017-04-28\n",
       "4797    2017-05-01\n",
       "4852    2017-05-09\n",
       "6249    2017-10-23\n",
       "6337    2017-11-01\n",
       "6338    2017-11-01\n",
       "6339    2017-11-01\n",
       "6412    2017-11-09\n",
       "6497    2017-11-20\n",
       "6599    2017-11-30\n",
       "6687    2017-12-12\n",
       "6688    2017-12-12\n",
       "6689    2017-12-12\n",
       "Name: question_created_date, dtype: object"
      ]
     },
     "execution_count": 38,
     "metadata": {},
     "output_type": "execute_result"
    }
   ],
   "source": [
    "# see the date question have been made for question with null value\n",
    "pd.to_datetime(data[data['question_owner_user_id'].isnull()]['question_created_date']).dt.date"
   ]
  },
  {
   "cell_type": "code",
   "execution_count": 35,
   "metadata": {},
   "outputs": [
    {
     "data": {
      "text/plain": [
       "0"
      ]
     },
     "execution_count": 35,
     "metadata": {},
     "output_type": "execute_result"
    }
   ],
   "source": [
    "# replace the null value from quetion_owner_location column into 'unknown'\n",
    "data['question_owner_location'].replace(to_replace=np.NAN, value=\"unknown\", inplace=True)\n",
    "data['question_owner_location'].isnull().sum()"
   ]
  },
  {
   "cell_type": "code",
   "execution_count": 40,
   "metadata": {},
   "outputs": [
    {
     "data": {
      "text/plain": [
       "'2015-01-01 18:31:22.693000 UTC'"
      ]
     },
     "execution_count": 40,
     "metadata": {},
     "output_type": "execute_result"
    }
   ],
   "source": [
    "# check, when is the first question asked\n",
    "data['question_created_date'].min()"
   ]
  },
  {
   "cell_type": "code",
   "execution_count": 41,
   "metadata": {},
   "outputs": [
    {
     "data": {
      "text/plain": [
       "'2017-12-31 01:39:02.950000 UTC'"
      ]
     },
     "execution_count": 41,
     "metadata": {},
     "output_type": "execute_result"
    }
   ],
   "source": [
    "# check, when is the latest question asked\n",
    "data['question_created_date'].max()"
   ]
  },
  {
   "cell_type": "code",
   "execution_count": 42,
   "metadata": {},
   "outputs": [
    {
     "data": {
      "text/plain": [
       "48"
      ]
     },
     "execution_count": 42,
     "metadata": {},
     "output_type": "execute_result"
    }
   ],
   "source": [
    "# check the sum of unique value in question_score column\n",
    "data['question_score'].nunique()"
   ]
  },
  {
   "cell_type": "code",
   "execution_count": 53,
   "metadata": {},
   "outputs": [
    {
     "data": {
      "text/plain": [
       "question_score\n",
       " 0      1960\n",
       " 1      1692\n",
       " 2       985\n",
       " 3       614\n",
       " 4       302\n",
       " 5       212\n",
       " 6       152\n",
       " 7       104\n",
       " 8        84\n",
       " 10       83\n",
       " 9        79\n",
       " 11       72\n",
       "-1        72\n",
       " 16       33\n",
       " 14       31\n",
       " 12       30\n",
       " 13       28\n",
       " 15       27\n",
       " 24       27\n",
       " 19       19\n",
       "-2        17\n",
       " 21       16\n",
       " 57       15\n",
       " 41       14\n",
       " 17       12\n",
       " 20       12\n",
       " 23       11\n",
       " 18       11\n",
       " 28       10\n",
       " 61        8\n",
       " 22        8\n",
       " 30        6\n",
       " 31        6\n",
       " 98        5\n",
       " 39        5\n",
       " 34        4\n",
       " 25        4\n",
       " 32        4\n",
       " 104       3\n",
       "-3         3\n",
       " 46        3\n",
       " 26        2\n",
       " 58        2\n",
       "-5         2\n",
       " 54        2\n",
       "-6         2\n",
       " 82        1\n",
       " 51        1\n",
       "Name: count, dtype: int64"
      ]
     },
     "execution_count": 53,
     "metadata": {},
     "output_type": "execute_result"
    }
   ],
   "source": [
    "# check the sum of each value in question_score column\n",
    "data['question_score'].value_counts()"
   ]
  },
  {
   "cell_type": "code",
   "execution_count": 54,
   "metadata": {},
   "outputs": [
    {
     "data": {
      "text/plain": [
       "is_accepted_answer\n",
       "False    4088\n",
       "True     2707\n",
       "Name: count, dtype: int64"
      ]
     },
     "execution_count": 54,
     "metadata": {},
     "output_type": "execute_result"
    }
   ],
   "source": [
    "# check the sum of each value from is_accepted_answer column\n",
    "data['is_accepted_answer'].value_counts()"
   ]
  },
  {
   "cell_type": "code",
   "execution_count": 63,
   "metadata": {},
   "outputs": [],
   "source": [
    "# change the column type into Int64 (choosing this type because the column contain null value and it best suit for the column purpose)\n",
    "data['question_owner_user_id'] = data['question_owner_user_id'].astype('Int64')\n",
    "data['answer_id'] = data['answer_id'].astype('Int64')\n",
    "data['answerer_user_id'] = data['answerer_user_id'].astype('Int64')\n",
    "data['answer_score'] = data['answer_score'].astype('Int64')\n",
    "data['answer_comment_count'] = data['answer_comment_count'].astype('Int64')"
   ]
  },
  {
   "cell_type": "code",
   "execution_count": 64,
   "metadata": {},
   "outputs": [
    {
     "data": {
      "text/plain": [
       "question_id                 int64\n",
       "question_owner_user_id      Int64\n",
       "question_owner_location    object\n",
       "question_title             object\n",
       "question_body              object\n",
       "question_created_date      object\n",
       "question_score              int64\n",
       "question_tag               object\n",
       "answer_id                   Int64\n",
       "answerer_user_id            Int64\n",
       "answer_created_date        object\n",
       "answer_score                Int64\n",
       "answer_comment_count        Int64\n",
       "is_accepted_answer           bool\n",
       "dtype: object"
      ]
     },
     "execution_count": 64,
     "metadata": {},
     "output_type": "execute_result"
    }
   ],
   "source": [
    "# check the column type\n",
    "data.dtypes"
   ]
  },
  {
   "cell_type": "markdown",
   "metadata": {},
   "source": [
    "# Answer the Question\n",
    "Start answering the Use Case given"
   ]
  },
  {
   "cell_type": "markdown",
   "metadata": {},
   "source": [
    "## Use Case 1 - Marketing by Topic\n",
    "Marketing team have an OKR where they need to create lots of digital banner to attract people get into Stack Overflow. They have an idea to create topic-based marketing. The idea is to show how many relevant question there is in the platform to people's needs. They want to show example question asked int he platform and show how many questions have been asked int he platform so far.\n",
    "<br><br>\n",
    "Your manager asks you to create the metrics calculation as needed then show it into line chart where each tag (topic) has chart. A single line would represent year the question is asked. The trend should be on monthly basis.\n",
    "<br><br>\n",
    "**Metrics**: Unique questions per month per year\n",
    "<br>\n",
    "**Key notes**:\n",
    "- Show example questions\n",
    "- Show how many questions have been asked\n",
    "- Create metrics unique questions per month per year\n",
    "- Show the line chart of each tag (topic)"
   ]
  },
  {
   "cell_type": "code",
   "execution_count": null,
   "metadata": {},
   "outputs": [],
   "source": []
  },
  {
   "cell_type": "markdown",
   "metadata": {},
   "source": [
    "## Use Case 2 - Brand Ambassador Selection\n",
    "Branding team wants to feature popular aswer writer in each tags for worldwide brand ambassador launch in Youtube. They want to have at least 10 top candidates in each tag.\n",
    "<br><br>\n",
    "Your manager asks you to ensures that the selected writers are only the one who got their accepted answer the most. They also never get minus score for an answer.\n",
    "<br><br>\n",
    "**Metrics**: Total accepted answer per answerer userid per tag\n",
    "<br>\n",
    "**Key notes**:\n",
    "- Show top 10 answer writer in each tag (topic)\n",
    "- Top answer writer are the one who have accepted answer the most & never get a minus score\n",
    "- Create metrics total accepted answer per answerer userID per tag"
   ]
  },
  {
   "cell_type": "code",
   "execution_count": null,
   "metadata": {},
   "outputs": [],
   "source": []
  },
  {
   "cell_type": "markdown",
   "metadata": {},
   "source": [
    "## Use Case 3 - User Activity Segmentation\n",
    "Product team wants to understand the different persona of their users based on number of question and answers they created\n",
    "<br><br>\n",
    "Your manager asks you to create segmentation using rule-based technique. The treshold determination should be based on average of total posts (question or answer) they created per year\n",
    "<br><br>\n",
    "Your manager also asks to create visualization of these segments based on year. The visualization should be a stacked-bar-chart where each chart represents a year, the stack will show different colors of segements for PM to understand the trend change in yearly basis\n",
    "<br><br>\n",
    "\n",
    "**Segment Details**\n",
    "|Question created|Answere created|Persona name|\n",
    "|:--------------:|:-------------:|:----------|\n",
    "|hi|hi|Inquisitive Guru|\n",
    "|hi|low|Curious Observer|\n",
    "|low|hi|Knowledgeable Supporter|\n",
    "|low|low|Silent Specator|\n",
    "\n",
    "\n",
    "The threshold determination should be based on average of total posts (question or answer) they created per year. Threshold will be different for question and answer\n",
    "<br><br>\n",
    "**Metrics**: UserID count per segmentation per year\n",
    "<br>\n",
    "**Hint**: Every year, the threshold change\n",
    "<br>\n",
    "**Key notes**:\n",
    "- Create segmentation using rule-based technique\n",
    "- Threshold determination should be based on average of total post (question or answer) per year\n",
    "    - Threshould will be different for question and answer\n",
    "- Create visualization of the segmentation based on year\n",
    "    - The visualization should be stacked-bar-chart\n",
    "    - Each chart represents a year\n",
    "    - Too show the  trend change in yearly basis"
   ]
  },
  {
   "cell_type": "code",
   "execution_count": null,
   "metadata": {},
   "outputs": [],
   "source": []
  }
 ],
 "metadata": {
  "kernelspec": {
   "display_name": "gigih_venv",
   "language": "python",
   "name": "python3"
  },
  "language_info": {
   "codemirror_mode": {
    "name": "ipython",
    "version": 3
   },
   "file_extension": ".py",
   "mimetype": "text/x-python",
   "name": "python",
   "nbconvert_exporter": "python",
   "pygments_lexer": "ipython3",
   "version": "3.10.11"
  },
  "orig_nbformat": 4
 },
 "nbformat": 4,
 "nbformat_minor": 2
}
