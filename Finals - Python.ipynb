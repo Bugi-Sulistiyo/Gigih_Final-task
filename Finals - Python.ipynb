{
 "cells": [
  {
   "cell_type": "code",
   "execution_count": 1,
   "metadata": {},
   "outputs": [],
   "source": [
    "# import the needed packages\n",
    "import pandas as pd\n",
    "import matplotlib.pyplot as plt"
   ]
  },
  {
   "cell_type": "code",
   "execution_count": 3,
   "metadata": {},
   "outputs": [
    {
     "data": {
      "text/html": [
       "<div>\n",
       "<style scoped>\n",
       "    .dataframe tbody tr th:only-of-type {\n",
       "        vertical-align: middle;\n",
       "    }\n",
       "\n",
       "    .dataframe tbody tr th {\n",
       "        vertical-align: top;\n",
       "    }\n",
       "\n",
       "    .dataframe thead th {\n",
       "        text-align: right;\n",
       "    }\n",
       "</style>\n",
       "<table border=\"1\" class=\"dataframe\">\n",
       "  <thead>\n",
       "    <tr style=\"text-align: right;\">\n",
       "      <th></th>\n",
       "      <th>question_id</th>\n",
       "      <th>question_owner_user_id</th>\n",
       "      <th>question_owner_location</th>\n",
       "      <th>question_title</th>\n",
       "      <th>question_body</th>\n",
       "      <th>question_created_date</th>\n",
       "      <th>question_score</th>\n",
       "      <th>question_tag</th>\n",
       "      <th>answer_id</th>\n",
       "      <th>answerer_user_id</th>\n",
       "      <th>answer_created_date</th>\n",
       "      <th>answer_score</th>\n",
       "      <th>answer_comment_count</th>\n",
       "      <th>is_accepted_answer</th>\n",
       "    </tr>\n",
       "  </thead>\n",
       "  <tbody>\n",
       "    <tr>\n",
       "      <th>0</th>\n",
       "      <td>27733458</td>\n",
       "      <td>3769827.0</td>\n",
       "      <td>NaN</td>\n",
       "      <td>SQL script to get time to response in log table</td>\n",
       "      <td>&lt;p&gt;I have one scenario which I really have no ...</td>\n",
       "      <td>2015-01-01 18:31:22.693000 UTC</td>\n",
       "      <td>1</td>\n",
       "      <td>bq</td>\n",
       "      <td>27787398.0</td>\n",
       "      <td>1371484.0</td>\n",
       "      <td>2015-01-05 20:30:31.057000 UTC</td>\n",
       "      <td>1.0</td>\n",
       "      <td>1.0</td>\n",
       "      <td>False</td>\n",
       "    </tr>\n",
       "    <tr>\n",
       "      <th>1</th>\n",
       "      <td>27734669</td>\n",
       "      <td>2238969.0</td>\n",
       "      <td>NaN</td>\n",
       "      <td>Httparchive - BigQuery how to get median bytes...</td>\n",
       "      <td>&lt;p&gt;I am currently writing my bachelor theses a...</td>\n",
       "      <td>2015-01-01 21:04:30.070000 UTC</td>\n",
       "      <td>0</td>\n",
       "      <td>bq</td>\n",
       "      <td>27751284.0</td>\n",
       "      <td>3624307.0</td>\n",
       "      <td>2015-01-03 02:56:46.553000 UTC</td>\n",
       "      <td>1.0</td>\n",
       "      <td>2.0</td>\n",
       "      <td>False</td>\n",
       "    </tr>\n",
       "  </tbody>\n",
       "</table>\n",
       "</div>"
      ],
      "text/plain": [
       "   question_id  question_owner_user_id question_owner_location  \\\n",
       "0     27733458               3769827.0                     NaN   \n",
       "1     27734669               2238969.0                     NaN   \n",
       "\n",
       "                                      question_title  \\\n",
       "0    SQL script to get time to response in log table   \n",
       "1  Httparchive - BigQuery how to get median bytes...   \n",
       "\n",
       "                                       question_body  \\\n",
       "0  <p>I have one scenario which I really have no ...   \n",
       "1  <p>I am currently writing my bachelor theses a...   \n",
       "\n",
       "            question_created_date  question_score question_tag   answer_id  \\\n",
       "0  2015-01-01 18:31:22.693000 UTC               1           bq  27787398.0   \n",
       "1  2015-01-01 21:04:30.070000 UTC               0           bq  27751284.0   \n",
       "\n",
       "   answerer_user_id             answer_created_date  answer_score  \\\n",
       "0         1371484.0  2015-01-05 20:30:31.057000 UTC           1.0   \n",
       "1         3624307.0  2015-01-03 02:56:46.553000 UTC           1.0   \n",
       "\n",
       "   answer_comment_count  is_accepted_answer  \n",
       "0                   1.0               False  \n",
       "1                   2.0               False  "
      ]
     },
     "execution_count": 3,
     "metadata": {},
     "output_type": "execute_result"
    }
   ],
   "source": [
    "# import the dataset\n",
    "data = pd.read_csv(\"./GG3 finals python dataset stackoverflow.csv\")\n",
    "data.head(2)"
   ]
  },
  {
   "cell_type": "markdown",
   "metadata": {},
   "source": [
    "# EDA & Data Preparation\n",
    "Exploring the dataset to check the data characteristic and preparing the dataset to make the analysis better"
   ]
  },
  {
   "cell_type": "code",
   "execution_count": 6,
   "metadata": {},
   "outputs": [
    {
     "name": "stdout",
     "output_type": "stream",
     "text": [
      "<class 'pandas.core.frame.DataFrame'>\n",
      "RangeIndex: 6795 entries, 0 to 6794\n",
      "Data columns (total 14 columns):\n",
      " #   Column                   Non-Null Count  Dtype  \n",
      "---  ------                   --------------  -----  \n",
      " 0   question_id              6795 non-null   int64  \n",
      " 1   question_owner_user_id   6761 non-null   float64\n",
      " 2   question_owner_location  2770 non-null   object \n",
      " 3   question_title           6795 non-null   object \n",
      " 4   question_body            6795 non-null   object \n",
      " 5   question_created_date    6795 non-null   object \n",
      " 6   question_score           6795 non-null   int64  \n",
      " 7   question_tag             6795 non-null   object \n",
      " 8   answer_id                6393 non-null   float64\n",
      " 9   answerer_user_id         6385 non-null   float64\n",
      " 10  answer_created_date      6393 non-null   object \n",
      " 11  answer_score             6393 non-null   float64\n",
      " 12  answer_comment_count     6393 non-null   float64\n",
      " 13  is_accepted_answer       6795 non-null   bool   \n",
      "dtypes: bool(1), float64(5), int64(2), object(6)\n",
      "memory usage: 696.9+ KB\n"
     ]
    }
   ],
   "source": [
    "# check the data column existed, data type of each column, and the null value existed in each column\n",
    "data.info()"
   ]
  },
  {
   "cell_type": "code",
   "execution_count": null,
   "metadata": {},
   "outputs": [],
   "source": []
  },
  {
   "cell_type": "markdown",
   "metadata": {},
   "source": [
    "# Answer the Question\n",
    "Start answering the Use Case given"
   ]
  },
  {
   "cell_type": "markdown",
   "metadata": {},
   "source": [
    "## Use Case 1 - Marketing by Topic\n",
    "Marketing team have an OKR where they need to create lots of digital banner to attract people get into Stack Overflow. They have an idea to create topic-based marketing. The idea is to show how many relevant question there is in the platform to people's needs. They want to show example question asked int he platform and show how many questions have been asked int he platform so far.\n",
    "<br><br>\n",
    "Your manager asks you to create the metrics calculation as needed then show it into line chart where each tag (topic) has chart. A single line would represent year the question is asked. The trend should be on monthly basis.\n",
    "<br><br>\n",
    "**Metrics**: Unique questions per month per year\n",
    "<br>\n",
    "**Key notes**:\n",
    "- Show example questions\n",
    "- Show how many questions have been asked\n",
    "- Create metrics unique questions per month per year\n",
    "- Show the line chart of each tag (topic)"
   ]
  },
  {
   "cell_type": "code",
   "execution_count": null,
   "metadata": {},
   "outputs": [],
   "source": []
  },
  {
   "cell_type": "markdown",
   "metadata": {},
   "source": [
    "## Use Case 2 - Brand Ambassador Selection\n",
    "Branding team wants to feature popular aswer writer in each tags for worldwide brand ambassador launch in Youtube. They want to have at least 10 top candidates in each tag.\n",
    "<br><br>\n",
    "Your manager asks you to ensures that the selected writers are only the one who got their accepted answer the most. They also never get minus score for an answer.\n",
    "<br><br>\n",
    "**Metrics**: Total accepted answer per answerer userid per tag\n",
    "<br>\n",
    "**Key notes**:\n",
    "- Show top 10 answer writer in each tag (topic)\n",
    "- Top answer writer are the one who have accepted answer the most & never get a minus score\n",
    "- Create metrics total accepted answer per answerer userID per tag"
   ]
  },
  {
   "cell_type": "code",
   "execution_count": null,
   "metadata": {},
   "outputs": [],
   "source": []
  },
  {
   "cell_type": "markdown",
   "metadata": {},
   "source": [
    "## Use Case 3 - User Activity Segmentation\n",
    "Product team wants to understand the different persona of their users based on number of question and answers they created\n",
    "<br><br>\n",
    "Your manager asks you to create segmentation using rule-based technique. The treshold determination should be based on average of total posts (question or answer) they created per year\n",
    "<br><br>\n",
    "Your manager also asks to create visualization of these segments based on year. The visualization should be a stacked-bar-chart where each chart represents a year, the stack will show different colors of segements for PM to understand the trend change in yearly basis\n",
    "<br><br>\n",
    "\n",
    "**Segment Details**\n",
    "|Question created|Answere created|Persona name|\n",
    "|:--------------:|:-------------:|:----------|\n",
    "|hi|hi|Inquisitive Guru|\n",
    "|hi|low|Curious Observer|\n",
    "|low|hi|Knowledgeable Supporter|\n",
    "|low|low|Silent Specator|\n",
    "\n",
    "\n",
    "The threshold determination should be based on average of total posts (question or answer) they created per year. Threshold will be different for question and answer\n",
    "<br><br>\n",
    "**Metrics**: UserID count per segmentation per year\n",
    "<br>\n",
    "**Hint**: Every year, the threshold change\n",
    "<br>\n",
    "**Key notes**:\n",
    "- Create segmentation using rule-based technique\n",
    "- Threshold determination should be based on average of total post (question or answer) per year\n",
    "    - Threshould will be different for question and answer\n",
    "- Create visualization of the segmentation based on year\n",
    "    - The visualization should be stacked-bar-chart\n",
    "    - Each chart represents a year\n",
    "    - Too show the  trend change in yearly basis"
   ]
  },
  {
   "cell_type": "code",
   "execution_count": null,
   "metadata": {},
   "outputs": [],
   "source": []
  }
 ],
 "metadata": {
  "kernelspec": {
   "display_name": "gigih_venv",
   "language": "python",
   "name": "python3"
  },
  "language_info": {
   "codemirror_mode": {
    "name": "ipython",
    "version": 3
   },
   "file_extension": ".py",
   "mimetype": "text/x-python",
   "name": "python",
   "nbconvert_exporter": "python",
   "pygments_lexer": "ipython3",
   "version": "3.10.11"
  },
  "orig_nbformat": 4
 },
 "nbformat": 4,
 "nbformat_minor": 2
}
